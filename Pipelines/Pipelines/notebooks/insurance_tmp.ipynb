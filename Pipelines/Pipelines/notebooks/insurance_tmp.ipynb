{
 "cells": [
  {
   "cell_type": "code",
   "execution_count": null,
   "metadata": {},
   "outputs": [],
   "source": [
    "#Data wrangling\n",
    "import numpy as numpy\n",
    "import pandas as pd\n",
    "\n",
    "#seleção e validação de modelos\n",
    "from sklearn import metrics\n",
    "from sklearn.model_selection import train_test_split\n",
    "\n",
    "# Pré-processamento para incluir no pipeline\n",
    "from sklearn.impute import SimpleImputer\n",
    "form sklearn.preprocessing import StandardScaler, OneHotEncoder\n",
    "\n",
    "# Modelos\n",
    "from sklearn.linear_model import LinearRegression\n",
    "\n",
    "#Manter saída do processamento do sklearn como DataFrame pandas\n",
    "from sklearn import set_config\n",
    "set_config(transform_output=\"pandas\")\n",
    "\n"
   ]
  },
  {
   "cell_type": "code",
   "execution_count": null,
   "metadata": {},
   "outputs": [],
   "source": [
    "URL_DATA = 'https://raw.githubusercontent.com/stedy/Machine-Learning-with-R-datasets/master/insurance.csv'\n",
    "df = pd.read_cs(URL_DATA)\n",
    "df\n"
   ]
  },
  {
   "cell_type": "code",
   "execution_count": null,
   "metadata": {},
   "outputs": [],
   "source": [
    "df_futuro = pd.DataFrame ({\n",
    "    'age': [37, np.nan, 58,21,43],\n",
    "    'sex': ['male', 'female', np.nan, 'female', 'female'],\n",
    "    'bmi': [46.53, 32.395, 28.595, 21.89, 24.7],\n",
    "    'children': [3, 1, 0, 2 ,2],\n",
    "    'smoker': ['no', np.nan, 'no', 'no', 'yes'],\n",
    "    'region': ['southeast', 'northeast', 'northwest', 'southeast', 'north']\n",
    "})\n",
    "\n",
    "df_futuro"
   ]
  },
  {
   "cell_type": "code",
   "execution_count": null,
   "metadata": {},
   "outputs": [],
   "source": [
    "lr = LinearRegression()"
   ]
  },
  {
   "cell_type": "code",
   "execution_count": null,
   "metadata": {},
   "outputs": [],
   "source": [
    "X = df.drop(columns='charges')\n",
    "y = df['charges']\n",
    "\n",
    "X-train, X_test, y_train, y_test = train_test_split(X,y, random_state=2023)"
   ]
  },
  {
   "cell_type": "code",
   "execution_count": null,
   "metadata": {},
   "outputs": [],
   "source": [
    "X_train_transformed = pd.get_dummies(X_train)"
   ]
  },
  {
   "cell_type": "code",
   "execution_count": null,
   "metadata": {},
   "outputs": [],
   "source": [
    "lr.fit(X_train, y_train)"
   ]
  },
  {
   "cell_type": "code",
   "execution_count": null,
   "metadata": {},
   "outputs": [],
   "source": [
    "lr.predict(X_train_transformed)"
   ]
  },
  {
   "cell_type": "code",
   "execution_count": null,
   "metadata": {},
   "outputs": [],
   "source": [
    "df_futuro_transformed = pd.get_dummies(df_futuro)\n",
    "lr.predict(X_train_transformed)"
   ]
  },
  {
   "cell_type": "code",
   "execution_count": null,
   "metadata": {},
   "outputs": [],
   "source": []
  }
 ],
 "metadata": {
  "language_info": {
   "name": "python"
  }
 },
 "nbformat": 4,
 "nbformat_minor": 2
}
